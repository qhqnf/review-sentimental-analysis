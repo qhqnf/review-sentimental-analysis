{
 "cells": [
  {
   "cell_type": "code",
   "execution_count": 1,
   "metadata": {},
   "outputs": [],
   "source": [
    "import os\n",
    "import numpy as np\n",
    "import pandas as pd\n",
    "import re\n",
    "import pickle\n",
    "import matplotlib.pyplot as plt"
   ]
  },
  {
   "cell_type": "code",
   "execution_count": 2,
   "metadata": {},
   "outputs": [],
   "source": [
    "# path\n",
    "cur_path = os.getcwd()\n",
    "file_path = cur_path + \"\\Documents\\\\technical-assignment-2020-0823\"\n",
    "train_data_path = file_path + '\\\\test_data'\n",
    "\n",
    "valid_data_path = file_path + '\\\\valid_data'\n",
    "valid_label_path = file_path + '\\\\valid_label'"
   ]
  },
  {
   "cell_type": "code",
   "execution_count": 3,
   "metadata": {},
   "outputs": [],
   "source": [
    "# read train data\n",
    "valid_data = pd.read_csv(valid_data_path, sep='\\n', names=[\"review\"], header=None, skip_blank_lines=False)\n",
    "valid_label = pd.read_csv(valid_label_path, sep='\\n', names=[\"rate\"], header=None)"
   ]
  },
  {
   "cell_type": "code",
   "execution_count": 4,
   "metadata": {},
   "outputs": [],
   "source": [
    "valid = pd.concat([valid_data, valid_label], axis=1)"
   ]
  },
  {
   "cell_type": "code",
   "execution_count": 5,
   "metadata": {},
   "outputs": [
    {
     "name": "stdout",
     "output_type": "stream",
     "text": [
      "전처리 후 샘플의 개수 : 9280\n"
     ]
    }
   ],
   "source": [
    "# drop invalid data\n",
    "valid.drop_duplicates(subset=['review'], inplace=True)\n",
    "\n",
    "# replace all other string to blank except korean\n",
    "valid['review'] = valid['review'].str.replace(\"[^ㄱ-ㅎㅏ-ㅣ가-힣 ]\",\"\")\n",
    "valid['review'].replace('', np.nan, inplace=True)\n",
    "valid = valid.dropna(how = 'any')\n",
    "\n",
    "print('전처리 후 샘플의 개수 :',len(valid))"
   ]
  },
  {
   "cell_type": "code",
   "execution_count": 6,
   "metadata": {},
   "outputs": [
    {
     "data": {
      "text/plain": [
       "<AxesSubplot:>"
      ]
     },
     "execution_count": 6,
     "metadata": {},
     "output_type": "execute_result"
    },
    {
     "data": {
      "image/png": "[encoded data removed]",
      "text/plain": [
       "<Figure size 432x288 with 1 Axes>"
      ]
     },
     "metadata": {
      "needs_background": "light"
     },
     "output_type": "display_data"
    }
   ],
   "source": [
    "valid['rate'].value_counts().plot(kind = 'bar')"
   ]
  },
  {
   "cell_type": "code",
   "execution_count": 7,
   "metadata": {},
   "outputs": [],
   "source": [
    "from konlpy.tag import Okt\n",
    "okt = Okt()\n",
    "\n",
    "stopwords = ['의','가','이','은','들','는','좀','잘','걍','과','도','를','으로','자','에','와','한','하다']"
   ]
  },
  {
   "cell_type": "code",
   "execution_count": 8,
   "metadata": {},
   "outputs": [
    {
     "name": "stdout",
     "output_type": "stream",
     "text": [
      "9280\n"
     ]
    }
   ],
   "source": [
    "# 토큰화 객체 계속 쓰기\n",
    "X_valid = []\n",
    "for sentence in valid['review']:\n",
    "    temp_X = []\n",
    "    temp_X = okt.morphs(sentence, stem=True) # 토큰화\n",
    "    temp_X = [word for word in temp_X if not word in stopwords] # 불용어 제거\n",
    "    X_valid.append(temp_X)\n",
    "print(len(X_valid))"
   ]
  },
  {
   "cell_type": "code",
   "execution_count": 9,
   "metadata": {},
   "outputs": [
    {
     "name": "stdout",
     "output_type": "stream",
     "text": [
      "84222\n",
      "84222\n"
     ]
    }
   ],
   "source": [
    "# 토큰화 객체 불러오기\n",
    "with open('tokenized_data1.p', 'rb') as file:\n",
    "    X_train = pickle.load(file)\n",
    "    \n",
    "with open('data1_label.p', 'rb') as file:\n",
    "    y_train = pickle.load(file)\n",
    "    \n",
    "print(len(X_train))\n",
    "print(len(y_train))"
   ]
  },
  {
   "cell_type": "code",
   "execution_count": 10,
   "metadata": {},
   "outputs": [
    {
     "name": "stdout",
     "output_type": "stream",
     "text": [
      "단어 집합(vocabulary)의 크기 : 29531\n",
      "등장 빈도가 2번 이하인 희귀 단어의 수: 17187\n",
      "단어 집합에서 희귀 단어의 비율: 58.19985777657377\n",
      "전체 등장 빈도에서 희귀 단어 등장 빈도 비율: 2.3858058875623716\n"
     ]
    }
   ],
   "source": [
    "from tensorflow.keras.preprocessing.text import Tokenizer\n",
    "from tensorflow.keras.preprocessing.sequence import pad_sequences\n",
    "\n",
    "tokenizer = Tokenizer()\n",
    "tokenizer.fit_on_texts(X_train)\n",
    "\n",
    "threshold = 3\n",
    "total_cnt = len(tokenizer.word_index) # 단어의 수\n",
    "rare_cnt = 0 # 등장 빈도수가 threshold보다 작은 단어의 개수를 카운트\n",
    "total_freq = 0 # 훈련 데이터의 전체 단어 빈도수 총 합\n",
    "rare_freq = 0 # 등장 빈도수가 threshold보다 작은 단어의 등장 빈도수의 총 합\n",
    "\n",
    "# 단어와 빈도수의 쌍(pair)을 key와 value로 받는다.\n",
    "for key, value in tokenizer.word_counts.items():\n",
    "    total_freq = total_freq + value\n",
    "\n",
    "    # 단어의 등장 빈도수가 threshold보다 작으면\n",
    "    if(value < threshold):\n",
    "        rare_cnt = rare_cnt + 1\n",
    "        rare_freq = rare_freq + value\n",
    "\n",
    "print('단어 집합(vocabulary)의 크기 :',total_cnt)\n",
    "print('등장 빈도가 %s번 이하인 희귀 단어의 수: %s'%(threshold - 1, rare_cnt))\n",
    "print(\"단어 집합에서 희귀 단어의 비율:\", (rare_cnt / total_cnt)*100)\n",
    "print(\"전체 등장 빈도에서 희귀 단어 등장 빈도 비율:\", (rare_freq / total_freq)*100)"
   ]
  },
  {
   "cell_type": "code",
   "execution_count": 11,
   "metadata": {},
   "outputs": [
    {
     "name": "stdout",
     "output_type": "stream",
     "text": [
      "단어 집합의 크기 : 12346\n"
     ]
    }
   ],
   "source": [
    "# 전체 단어 개수 중 빈도수 2이하인 단어 개수는 제거.\n",
    "# 0번 패딩 토큰과 1번 OOV 토큰을 고려하여 +2\n",
    "vocab_size = total_cnt - rare_cnt + 2\n",
    "print('단어 집합의 크기 :',vocab_size)\n",
    "\n",
    "tokenizer = Tokenizer(vocab_size, oov_token = 'OOV') \n",
    "tokenizer.fit_on_texts(X_train)\n",
    "X_train = tokenizer.texts_to_sequences(X_train)\n",
    "X_valid = tokenizer.texts_to_sequences(X_valid)"
   ]
  },
  {
   "cell_type": "code",
   "execution_count": 12,
   "metadata": {},
   "outputs": [],
   "source": [
    "y_valid = np.array(valid['rate'])"
   ]
  },
  {
   "cell_type": "code",
   "execution_count": 13,
   "metadata": {},
   "outputs": [],
   "source": [
    "X_train = pad_sequences(X_train, maxlen = 30)\n",
    "X_valid = pad_sequences(X_valid, maxlen = 30)"
   ]
  },
  {
   "cell_type": "code",
   "execution_count": 14,
   "metadata": {},
   "outputs": [
    {
     "name": "stdout",
     "output_type": "stream",
     "text": [
      "64379 64379\n",
      "8419 8419\n"
     ]
    }
   ],
   "source": [
    "drop_train = [index for index, rate in enumerate(y_train) if rate > 4 and rate < 9]\n",
    "drop_valid = [index for index, rate in enumerate(y_valid) if rate > 4 and rate < 9]\n",
    "\n",
    "# 빈 샘플들을 제거\n",
    "X_train = np.delete(X_train, drop_train, axis=0)\n",
    "y_train = np.delete(y_train, drop_train, axis=0)\n",
    "X_valid = np.delete(X_valid, drop_valid, axis=0)\n",
    "y_valid = np.delete(y_valid, drop_valid, axis=0)\n",
    "print(len(X_train),len(y_train))\n",
    "print(len(X_valid),len(y_valid))"
   ]
  },
  {
   "cell_type": "code",
   "execution_count": 15,
   "metadata": {},
   "outputs": [],
   "source": [
    "#데이터 수정\n",
    "\n",
    "y_valid = np.array([0 if i < 5 else 1 for i in y_valid])\n",
    "\n",
    "y_train = np.array([0 if i < 5 else 1 for i in y_train])\n"
   ]
  },
  {
   "cell_type": "code",
   "execution_count": 16,
   "metadata": {},
   "outputs": [],
   "source": [
    "from tensorflow.keras.layers import Embedding, Dense, LSTM\n",
    "from tensorflow.keras.models import Sequential\n",
    "from tensorflow.keras.models import load_model\n",
    "from tensorflow.keras.callbacks import EarlyStopping, ModelCheckpoint"
   ]
  },
  {
   "cell_type": "code",
   "execution_count": 17,
   "metadata": {},
   "outputs": [],
   "source": [
    "model = Sequential()\n",
    "model.add(Embedding(vocab_size, 100))\n",
    "model.add(LSTM(128))\n",
    "model.add(Dense(1, activation='sigmoid'))"
   ]
  },
  {
   "cell_type": "code",
   "execution_count": 18,
   "metadata": {},
   "outputs": [],
   "source": [
    "es = EarlyStopping(monitor='val_loss', mode='min', verbose=1, patience=4)\n",
    "mc = ModelCheckpoint('best_model.h5', monitor='val_acc', mode='max', verbose=1, save_best_only=True)"
   ]
  },
  {
   "cell_type": "code",
   "execution_count": 19,
   "metadata": {},
   "outputs": [
    {
     "name": "stdout",
     "output_type": "stream",
     "text": [
      "Train on 64379 samples, validate on 8419 samples\n",
      "Epoch 1/15\n",
      "64320/64379 [============================>.] - ETA: 0s - loss: 0.3083 - acc: 0.8682\n",
      "Epoch 00001: val_acc improved from -inf to 0.94334, saving model to best_model.h5\n",
      "64379/64379 [==============================] - 56s 868us/sample - loss: 0.3082 - acc: 0.8682 - val_loss: 0.1658 - val_acc: 0.9433\n",
      "Epoch 2/15\n",
      "64320/64379 [============================>.] - ETA: 0s - loss: 0.2525 - acc: 0.8954\n",
      "Epoch 00002: val_acc improved from 0.94334 to 0.94988, saving model to best_model.h5\n",
      "64379/64379 [==============================] - 55s 855us/sample - loss: 0.2526 - acc: 0.8954 - val_loss: 0.1357 - val_acc: 0.9499\n",
      "Epoch 3/15\n",
      "64320/64379 [============================>.] - ETA: 0s - loss: 0.2306 - acc: 0.9059\n",
      "Epoch 00003: val_acc improved from 0.94988 to 0.95201, saving model to best_model.h5\n",
      "64379/64379 [==============================] - 95s 1ms/sample - loss: 0.2306 - acc: 0.9059 - val_loss: 0.1356 - val_acc: 0.9520\n",
      "Epoch 4/15\n",
      "64320/64379 [============================>.] - ETA: 0s - loss: 0.2132 - acc: 0.9143\n",
      "Epoch 00004: val_acc improved from 0.95201 to 0.95760, saving model to best_model.h5\n",
      "64379/64379 [==============================] - 98s 2ms/sample - loss: 0.2132 - acc: 0.9143 - val_loss: 0.1217 - val_acc: 0.9576\n",
      "Epoch 5/15\n",
      "64320/64379 [============================>.] - ETA: 0s - loss: 0.1998 - acc: 0.9215\n",
      "Epoch 00005: val_acc did not improve from 0.95760\n",
      "64379/64379 [==============================] - 98s 2ms/sample - loss: 0.1997 - acc: 0.9215 - val_loss: 0.1193 - val_acc: 0.9551\n",
      "Epoch 6/15\n",
      "64320/64379 [============================>.] - ETA: 0s - loss: 0.1873 - acc: 0.9277\n",
      "Epoch 00006: val_acc improved from 0.95760 to 0.95819, saving model to best_model.h5\n",
      "64379/64379 [==============================] - 103s 2ms/sample - loss: 0.1872 - acc: 0.9278 - val_loss: 0.1212 - val_acc: 0.9582\n",
      "Epoch 7/15\n",
      "64320/64379 [============================>.] - ETA: 0s - loss: 0.1766 - acc: 0.9323\n",
      "Epoch 00007: val_acc did not improve from 0.95819\n",
      "64379/64379 [==============================] - 107s 2ms/sample - loss: 0.1766 - acc: 0.9323 - val_loss: 0.1304 - val_acc: 0.9549\n",
      "Epoch 8/15\n",
      "64320/64379 [============================>.] - ETA: 0s - loss: 0.1664 - acc: 0.9364\n",
      "Epoch 00008: val_acc did not improve from 0.95819\n",
      "64379/64379 [==============================] - 105s 2ms/sample - loss: 0.1664 - acc: 0.9365 - val_loss: 0.1304 - val_acc: 0.9514\n",
      "Epoch 9/15\n",
      "64320/64379 [============================>.] - ETA: 0s - loss: 0.1566 - acc: 0.9411\n",
      "Epoch 00009: val_acc did not improve from 0.95819\n",
      "64379/64379 [==============================] - 100s 2ms/sample - loss: 0.1565 - acc: 0.9411 - val_loss: 0.1317 - val_acc: 0.9521\n",
      "Epoch 00009: early stopping\n"
     ]
    }
   ],
   "source": [
    "model.compile(optimizer='rmsprop', loss='binary_crossentropy', metrics=['acc'])\n",
    "history = model.fit(X_train, y_train, epochs=15, callbacks=[es, mc],  batch_size=60, validation_data=(X_valid, y_valid))"
   ]
  },
  {
   "cell_type": "code",
   "execution_count": 20,
   "metadata": {},
   "outputs": [
    {
     "name": "stdout",
     "output_type": "stream",
     "text": [
      "64379/64379 [==============================] - 60s 937us/sample - loss: 0.1737 - acc: 0.9347\n",
      "\n",
      " 테스트 정확도: 0.9347\n"
     ]
    }
   ],
   "source": [
    "loaded_model = load_model('best_model.h5')\n",
    "print(\"\\n 테스트 정확도: %.4f\" % (loaded_model.evaluate(X_train, y_train)[1]))"
   ]
  },
  {
   "cell_type": "code",
   "execution_count": null,
   "metadata": {},
   "outputs": [],
   "source": []
  }
 ],
 "metadata": {
  "kernelspec": {
   "display_name": "py37",
   "language": "python",
   "name": "py37"
  },
  "language_info": {
   "codemirror_mode": {
    "name": "ipython",
    "version": 3
   },
   "file_extension": ".py",
   "mimetype": "text/x-python",
   "name": "python",
   "nbconvert_exporter": "python",
   "pygments_lexer": "ipython3",
   "version": "3.7.9"
  }
 },
 "nbformat": 4,
 "nbformat_minor": 4
}
